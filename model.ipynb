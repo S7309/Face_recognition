{
 "cells": [
  {
   "cell_type": "code",
   "execution_count": 1,
   "metadata": {},
   "outputs": [],
   "source": [
    "import numpy as np\n",
    "import json\n",
    "import io\n",
    "import matplotlib.pyplot as plt\n",
    "import matplotlib.image as mpimg\n",
    "import pandas as pd"
   ]
  },
  {
   "cell_type": "code",
   "execution_count": 2,
   "metadata": {},
   "outputs": [],
   "source": [
    "def initialize_parameters(layer_dims):\n",
    "\n",
    "    L = len(layer_dims)\n",
    "    parameters = {}\n",
    "    print(\"Initializing parameters....\")\n",
    "\n",
    "    for l in range(1, L):\n",
    "        parameters[\"W\" + str(l)] = np.random.randn(layer_dims[l], layer_dims[l - 1]) * 0.01\n",
    "        parameters[\"b\" + str(l)] = np.zeros([layer_dims[l],1])\n",
    "\n",
    "        assert(parameters[\"W\" + str(l)].shape == (layer_dims[l],layer_dims[l-1]))\n",
    "        assert(parameters[\"b\" + str(l)].shape == (layer_dims[l],1))\n",
    "        \n",
    "    print(\"Parameters Initialized....\")\n",
    "\n",
    "    for i in range(1, L):\n",
    "        print(\"Sahpe of W{} : \".format(i), parameters[\"W\" + str(i)].shape)\n",
    "\n",
    "    return parameters"
   ]
  },
  {
   "cell_type": "code",
   "execution_count": 3,
   "metadata": {},
   "outputs": [
    {
     "name": "stdout",
     "output_type": "stream",
     "text": [
      "Initializing parameters....\n",
      "Parameters Initialized....\n",
      "Sahpe of W1 :  (16, 784)\n",
      "Sahpe of W2 :  (16, 16)\n",
      "Sahpe of W3 :  (10, 16)\n"
     ]
    }
   ],
   "source": [
    "temp_parameters = initialize_parameters([784, 16, 16, 10])"
   ]
  },
  {
   "cell_type": "code",
   "execution_count": 4,
   "metadata": {},
   "outputs": [],
   "source": [
    "def initialize_trainingSet():\n",
    "    \n",
    "    #retrieving files...\n",
    "    print(\"Retrieving Files....\")\n",
    "    \n",
    "    train_X = pd.read_csv(\"mnist_train.csv\").drop(columns=\"5\").values\n",
    "    train_Y = pd.read_csv(\"mnist_train.csv\").loc[:, \"5\"].values\n",
    "    test_X = pd.read_csv(\"mnist_test.csv\").drop(columns=\"7\").values\n",
    "    test_Y = pd.read_csv(\"mnist_test.csv\").loc[:, \"7\"].values\n",
    "    \n",
    "    print(\"Files Retrieved....\")\n",
    "    \n",
    "    #reshaping the files into appropriate dimensions...\n",
    "    \n",
    "    train_X_orig = np.reshape(train_X, (train_X.shape[0], train_X.shape[1])).T\n",
    "    train_Y_orig = np.reshape(train_Y, (train_Y.shape[0], 1)).T\n",
    "    train_Y_orig = np.eye(10)[train_Y_orig].T\n",
    "    train_Y_orig = np.reshape(train_Y_orig, (train_Y_orig.shape[0], train_Y_orig.shape[1] * train_Y_orig.shape[2]))\n",
    "    \n",
    "    test_X_orig = np.reshape(test_X, (test_X.shape[0], test_X.shape[1])).T\n",
    "    test_Y_orig = np.reshape(test_Y, (test_Y.shape[0], 1)).T\n",
    "    test_Y_orig = np.eye(10)[test_Y_orig].T\n",
    "    test_Y_orig = np.reshape(test_Y_orig, (test_Y_orig.shape[0], test_Y_orig.shape[1] * test_Y_orig.shape[2]))\n",
    "    \n",
    "    return train_X_orig, train_Y_orig, test_X_orig, test_Y_orig"
   ]
  },
  {
   "cell_type": "code",
   "execution_count": null,
   "metadata": {},
   "outputs": [],
   "source": [
    "temp_train_X_orig, temp_train_Y_orig, temp_test_X_orig, temp_test_Y_orig = initialize_trainingSet()\n",
    "\n",
    "print(\"Shape of train_X : \", temp_train_X_orig.shape, \" Type : \", type(temp_train_X_orig))\n",
    "print(\"Shape of train_Y : \", temp_train_Y_orig.shape, \" Type : \", type(temp_train_Y_orig))\n",
    "print(\"Shape of test_X : \", temp_test_X_orig.shape, \" Type : \", type(temp_test_X_orig))\n",
    "print(\"Shape of test_Y : \", temp_test_Y_orig.shape, \" Type : \", type(temp_test_Y_orig))\n",
    "\n",
    "while True:\n",
    "    inp = int(input(\"Enter the example no. : \"))\n",
    "    if inp == -1:\n",
    "        break\n",
    "    img = temp_train_X_orig[:, inp].reshape(28,28)\n",
    "    print(\"Label : \", list(temp_train_Y_orig[:, inp]).index(1))\n",
    "    \n",
    "    plt.imshow(img)\n",
    "    plt.show()"
   ]
  },
  {
   "cell_type": "code",
   "execution_count": 5,
   "metadata": {},
   "outputs": [],
   "source": [
    "def non_linear_activation(Z, activation):\n",
    "    \n",
    "    if activation == \"relu\":\n",
    "        Z = np.maximum(0, Z)\n",
    "    elif activation == \"softmax\":\n",
    "        Z = np.exp(Z)\n",
    "        Z_sum = np.sum(Z, axis=0)\n",
    "        Z = Z/Z_sum\n",
    "    return Z"
   ]
  },
  {
   "cell_type": "code",
   "execution_count": 6,
   "metadata": {},
   "outputs": [],
   "source": [
    "def forward_propagation(X, parameters, layer_dims):\n",
    "\n",
    "    '''\n",
    "    shape of X = (784, 59999)\n",
    "    shape of W1 = (16, 784)\n",
    "    shape of W2 = (16, 16)\n",
    "    shape of W3 = (10, 16)\n",
    "    layer_dims length = 4\n",
    "    '''\n",
    "    \n",
    "    L = len(layer_dims)\n",
    "    cache = {}\n",
    "    cache[\"A0\"] = X\n",
    "    A = X\n",
    "    \n",
    "    for l in range(1, L):\n",
    "        cache[\"Z\" + str(l)] = np.dot(parameters[\"W\" + str(l)], A) + parameters[\"b\" + str(l)]\n",
    "        cache[\"A\" + str(l)] = non_linear_activation(cache[\"Z\" + str(l)], activation = \"relu\")\n",
    "\n",
    "        assert(cache[\"Z\" + str(l)].shape == cache[\"A\" + str(l)].shape)\n",
    "        A = cache[\"A\" + str(l)]\n",
    "        \n",
    "    cache[\"A\" + str(L - 1)] = non_linear_activation(cache[\"Z\" + str(L - 1)], activation = \"softmax\")\n",
    "    assert(cache[\"Z\" + str(L - 1)].shape == cache[\"A\" + str(L - 1)].shape)\n",
    "    \n",
    "    return cache"
   ]
  },
  {
   "cell_type": "code",
   "execution_count": null,
   "metadata": {},
   "outputs": [],
   "source": [
    "temp_layer_dims = [784, 35, 20, 25, 30, 10]\n",
    "temp_parameters = initialize_parameters(temp_layer_dims)\n",
    "temp_cache = forward_propagation(temp_train_X_orig, temp_parameters, temp_layer_dims)\n",
    "\n",
    "for i in range(1, len(temp_layer_dims)):\n",
    "    print(\"Shape of Z{} : \".format(i), temp_cache[\"Z\" + str(i)].shape, \" Shape of A{} : \".format(i), temp_cache[\"A\" + str(i)].shape)"
   ]
  },
  {
   "cell_type": "code",
   "execution_count": 7,
   "metadata": {},
   "outputs": [],
   "source": [
    "def compute_cost(Y, AL, layer_dims, parameters, lmbd = 0.05):\n",
    "\n",
    "    '''\n",
    "    Shape of Y :  (no. of output units, no. of examples)\n",
    "    Shape of AL :  (no. of output units, no. of examples)\n",
    "    '''\n",
    "    m = int(Y.shape[1])\n",
    "    L = len(layer_dims)\n",
    "    \n",
    "    regularized_term = 0\n",
    "    for l in range(1, L):\n",
    "        regularized_term = regularized_term + np.sum(np.square(parameters[\"W\" + str(l)]))\n",
    "    \n",
    "    cost = (-1/m) * np.sum(np.multiply(Y, np.log(AL)) + np.multiply((1 - Y), np.log(1 - AL))) + (lmbd * regularized_term)/(2 * m)\n",
    "    cost = np.squeeze(cost)  \n",
    "    \n",
    "    return cost"
   ]
  },
  {
   "cell_type": "code",
   "execution_count": null,
   "metadata": {},
   "outputs": [],
   "source": [
    "cost_log = []\n",
    "cost_log.append(compute_cost(temp_train_Y_orig, temp_cache[\"A\" + str(len(temp_layer_dims) - 1)], temp_layer_dims, temp_parameters, lmbd = 0.05))\n",
    "print(cost_log)"
   ]
  },
  {
   "cell_type": "code",
   "execution_count": 8,
   "metadata": {},
   "outputs": [],
   "source": [
    "def relu_derivative(Z):\n",
    "    Z[Z <= 0] = 0\n",
    "    Z[Z > 0] = 1\n",
    "    return Z"
   ]
  },
  {
   "cell_type": "code",
   "execution_count": 9,
   "metadata": {},
   "outputs": [],
   "source": [
    "def backpropagate(parameters, cache, layer_dims, Y, lmbd = 0.05):\n",
    "\n",
    "    grads = {}\n",
    "    L = len(layer_dims) - 1\n",
    "    \n",
    "    m = int(Y.shape[1])\n",
    "    \n",
    "    grads[\"dZ{}\".format(L)] = (cache[\"A{}\".format(L)] - Y)\n",
    "    grads[\"dW{}\".format(L)] = (1/m) * np.dot(grads[\"dZ{}\".format(L)], cache[\"A{}\".format(L - 1)].T)\n",
    "    grads[\"db{}\".format(L)] = (1/m) * np.sum(grads[\"dZ{}\".format(L)], axis=1, keepdims=True)\n",
    "    \n",
    "    W = parameters[\"W{}\".format(L)]\n",
    "    dZ = grads[\"dZ{}\".format(L)]\n",
    "    for l in range(1, L):\n",
    "        \n",
    "        grads[\"dA\" + str(L - l)] = np.dot(W.T, dZ) \n",
    "        grads[\"dZ\" + str(L - l)] = (grads[\"dA\" + str(L - l)] * relu_derivative(cache[\"Z\" + str(L - l)]))\n",
    "        grads[\"dW\" + str(L - l)] = ((1/m) * np.dot(grads[\"dZ\" + str(L - l)], cache[\"A\" + str(L - l - 1)].T)) + ((lmbd * parameters[\"W\" + str(L - l)])/m)\n",
    "        grads[\"db\" + str(L - l)] = (1/m) * np.sum(grads[\"dZ\" + str(L - l)], axis=1, keepdims=True)\n",
    "        \n",
    "        assert(grads[\"dA\" + str(L - l)].shape == cache[\"A\" + str(L - l)].shape)\n",
    "        assert(grads[\"dZ\" + str(L - l)].shape == cache[\"Z\" + str(L - l)].shape)\n",
    "        assert(grads[\"dW\" + str(L - l)].shape == parameters[\"W\" + str(L - l)].shape)\n",
    "        assert(grads[\"db\" + str(L - l)].shape == parameters[\"b\" + str(L - l)].shape)\n",
    "        \n",
    "        W = parameters[\"W\" + str(L - l)]\n",
    "        dZ = grads[\"dZ\" + str(L - l)]\n",
    "\n",
    "    return grads"
   ]
  },
  {
   "cell_type": "code",
   "execution_count": null,
   "metadata": {},
   "outputs": [],
   "source": [
    "temp_grads = backpropagate(temp_parameters, temp_cache, temp_layer_dims, temp_train_Y_orig)\n",
    "\n",
    "for i in range(1, len(temp_layer_dims)):\n",
    "    print(\"Shape of dW{} : \".format(i), temp_grads[\"dW\" + str(i)].shape, \", Shape of W{} : \".format(i), temp_parameters[\"W\" + str(i)].shape)"
   ]
  },
  {
   "cell_type": "code",
   "execution_count": 10,
   "metadata": {},
   "outputs": [],
   "source": [
    "def update_parameters(grads, parameters, learning_rate = 0.003):\n",
    "    \n",
    "    L = len(layer_dims)\n",
    "\n",
    "    for i in range(1,L):\n",
    "        \n",
    "        parameters[\"W\" + str(i)] = parameters[\"W\" + str(i)] - (learning_rate * grads[\"dW\" + str(i)])\n",
    "        parameters[\"b\" + str(i)] = parameters[\"b\" + str(i)] - (learning_rate * grads[\"db\" + str(i)])\n",
    "\n",
    "    return parameters"
   ]
  },
  {
   "cell_type": "code",
   "execution_count": 19,
   "metadata": {},
   "outputs": [],
   "source": [
    "def model(train_X, train_Y, layer_dims, learning_rate, num_iterations = 3000, print_cost=False):\n",
    "    \n",
    "    # initialize_parameters(layer_dims)\n",
    "    # non_linear_activation(Z, activation)\n",
    "    # forward_propagation(X, parameters, layer_dims)\n",
    "    # compute_cost(Y, AL, layer_dims, parameters, lmbd = 0.05)\n",
    "    # relu_derivative(Z)\n",
    "    # backpropagate(parameters, cache, layer_dims, Y, lmbd = 0.05)\n",
    "    # update_parameters(parameters, grads, learning_rate = 0.003)\n",
    "    \n",
    "    m = train_X.shape[1]\n",
    "    costs = []\n",
    "    L = len(layer_dims)\n",
    "    parameters = initialize_parameters(layer_dims)\n",
    "\n",
    "    for epoch in range(num_iterations):\n",
    "        cache = forward_propagation(train_X, parameters, layer_dims)\n",
    "        AL = cache[\"A\" + str(L - 1)]\n",
    "        cost = compute_cost(train_Y, AL, layer_dims, parameters, lmbd = 0.05)\n",
    "        grads = backpropagate(parameters, cache, layer_dims, train_Y, lmbd = 0.05)\n",
    "        parameters = update_parameters(grads, parameters, learning_rate = 0.003)\n",
    "        costs.append(cost)\n",
    "\n",
    "        if print_cost and epoch % 100== 0:\n",
    "            print(\"Cost after \" + str(epoch) + \" epochs : \" + str(cost))\n",
    "    \n",
    "    plt.plot(costs)\n",
    "    plt.title(\"Learning Rate : \" + str(learning_rate))\n",
    "    plt.xlabel(\"No. of Iteration\")\n",
    "    plt.ylabel(\"cost\")\n",
    "    plt.show()\n",
    "    \n",
    "    AL = cache[\"A\" + str(L - 1)]\n",
    "    AL[AL <= 0.5] = 0\n",
    "    AL[AL > 0.5] = 1\n",
    "    diff = (np.sum(np.abs(train_Y - AL))/(m)) * 100\n",
    "    train_accuracy = 100 - diff\n",
    "    \n",
    "    return parameters, train_accuracy, costs"
   ]
  },
  {
   "cell_type": "code",
   "execution_count": 21,
   "metadata": {},
   "outputs": [],
   "source": [
    "def prediction_accuracy(test_X, test_Y, parameters, layer_dims):\n",
    "    L = len(layer_dims)\n",
    "    m = test_Y.shape[1]\n",
    "    pred_cache = forward_propagation(test_X, parameters, layer_dims)\n",
    "    pred_cache[\"A{}\".format(L - 1)][pred_cache[\"A{}\".format(L - 1)] <= 0.5] = 0\n",
    "    pred_cache[\"A{}\".format(L - 1)][pred_cache[\"A{}\".format(L - 1)] > 0.5] = 1\n",
    "    diff = (np.sum(np.abs(test_Y - pred_cache[\"A{}\".format(L - 1)]))/m) * 100\n",
    "    test_accuracy = 100 - diff\n",
    "    \n",
    "    return test_accuracy"
   ]
  },
  {
   "cell_type": "code",
   "execution_count": 13,
   "metadata": {},
   "outputs": [],
   "source": [
    "def digit_recognizer(train_X, layer_dims, optimized_parameters):\n",
    "\n",
    "    newCache = {}\n",
    "    L = len(layer_dims)\n",
    "    \n",
    "    while True:\n",
    "        index = int(input(\"Enter any example number : \"))\n",
    "        if index == -1:\n",
    "            break\n",
    "        X = np.reshape(train_X[:, index], (train_X[:, index].shape[0], 1))\n",
    "        for l in range(1, L):\n",
    "            newCache[\"Z\" + str(l)] = np.dot(optimized_parameters[\"W\" + str(l)], X) + optimized_parameters[\"b\" + str(l)]\n",
    "            newCache[\"A\" + str(l)] = non_linear_activation(newCache[\"Z\" + str(l)], activation = \"relu\")\n",
    "            \n",
    "            assert(newCache[\"Z\" + str(l)].shape == newCache[\"A\" + str(l)].shape)\n",
    "            X = newCache[\"A\" + str(l)]\n",
    "        \n",
    "        newCache[\"A{}\".format(L - 1)] = non_linear_activation(newCache[\"Z{}\".format(L - 1)], activation = \"softmax\")\n",
    "        AL = newCache[\"A{}\".format(L - 1)]\n",
    "        assert(newCache[\"Z{}\".format(L - 1)].shape == newCache[\"A{}\".format(L - 1)].shape)\n",
    "        \n",
    "        img = train_X[:, index].reshape(28,28)\n",
    "        np.squeeze(AL)\n",
    "        print(\"Label : \", list(AL).index(max(list(AL))))\n",
    "\n",
    "        plt.imshow(img)\n",
    "        plt.show()"
   ]
  },
  {
   "cell_type": "code",
   "execution_count": 14,
   "metadata": {},
   "outputs": [
    {
     "name": "stdout",
     "output_type": "stream",
     "text": [
      "Retrieving Files....\n",
      "Files Retrieved....\n"
     ]
    }
   ],
   "source": [
    "train_X_orig, train_Y_orig, test_X_orig, test_Y_orig = initialize_trainingSet()"
   ]
  },
  {
   "cell_type": "code",
   "execution_count": 20,
   "metadata": {},
   "outputs": [
    {
     "name": "stdout",
     "output_type": "stream",
     "text": [
      "Initializing parameters....\n",
      "Parameters Initialized....\n",
      "Sahpe of W1 :  (45, 784)\n",
      "Sahpe of W2 :  (55, 45)\n",
      "Sahpe of W3 :  (10, 55)\n",
      "Cost after 0 epochs : 3.240437429848408\n",
      "Cost after 100 epochs : 1.1943616565314583\n",
      "Cost after 200 epochs : 0.7270710053873511\n",
      "Cost after 300 epochs : 0.6110840054315075\n",
      "Cost after 400 epochs : 0.5467582384974795\n",
      "Cost after 500 epochs : 0.49963072050389545\n",
      "Cost after 600 epochs : 0.4619769531902543\n",
      "Cost after 700 epochs : 0.43056604360043327\n",
      "Cost after 800 epochs : 0.4037423158460648\n",
      "Cost after 900 epochs : 0.38088886547667006\n",
      "Cost after 1000 epochs : 0.36113254275481244\n",
      "Cost after 1100 epochs : 0.3437230753253178\n",
      "Cost after 1200 epochs : 0.32799166167327837\n",
      "Cost after 1300 epochs : 0.3137727877928765\n",
      "Cost after 1400 epochs : 0.30076564743790435\n",
      "Cost after 1500 epochs : 0.2886612163160132\n",
      "Cost after 1600 epochs : 0.2773895584622485\n",
      "Cost after 1700 epochs : 0.2668752014276068\n",
      "Cost after 1800 epochs : 0.2571443414540052\n",
      "Cost after 1900 epochs : 0.2480926176410045\n",
      "Cost after 2000 epochs : 0.23965646212328745\n",
      "Cost after 2100 epochs : 0.23177171649753447\n",
      "Cost after 2200 epochs : 0.2243107123653922\n",
      "Cost after 2300 epochs : 0.21725975692427338\n",
      "Cost after 2400 epochs : 0.21059666697359586\n",
      "Cost after 2500 epochs : 0.20432277061442078\n",
      "Cost after 2600 epochs : 0.19841081877119848\n",
      "Cost after 2700 epochs : 0.19283341591916656\n",
      "Cost after 2800 epochs : 0.18754602974429788\n",
      "Cost after 2900 epochs : 0.18252205238350172\n"
     ]
    },
    {
     "data": {
      "image/png": "[encoded data removed]",
      "text/plain": [
       "<Figure size 432x288 with 1 Axes>"
      ]
     },
     "metadata": {},
     "output_type": "display_data"
    },
    {
     "ename": "ValueError",
     "evalue": "operands could not be broadcast together with shapes (10,9999) (55,9999) ",
     "output_type": "error",
     "traceback": [
      "\u001b[1;31m---------------------------------------------------------------------------\u001b[0m",
      "\u001b[1;31mValueError\u001b[0m                                Traceback (most recent call last)",
      "\u001b[1;32m<ipython-input-20-59d501cf7d70>\u001b[0m in \u001b[0;36m<module>\u001b[1;34m()\u001b[0m\n\u001b[0;32m      2\u001b[0m \u001b[0moptimized_parameters\u001b[0m\u001b[1;33m,\u001b[0m \u001b[0mtrain_accuracy\u001b[0m\u001b[1;33m,\u001b[0m \u001b[0mcosts\u001b[0m \u001b[1;33m=\u001b[0m \u001b[0mmodel\u001b[0m\u001b[1;33m(\u001b[0m\u001b[0mtrain_X_orig\u001b[0m\u001b[1;33m,\u001b[0m \u001b[0mtrain_Y_orig\u001b[0m\u001b[1;33m,\u001b[0m \u001b[0mlayer_dims\u001b[0m\u001b[1;33m,\u001b[0m \u001b[0mlearning_rate\u001b[0m \u001b[1;33m=\u001b[0m \u001b[1;36m0.03\u001b[0m\u001b[1;33m,\u001b[0m \u001b[0mnum_iterations\u001b[0m \u001b[1;33m=\u001b[0m \u001b[1;36m3000\u001b[0m\u001b[1;33m,\u001b[0m \u001b[0mprint_cost\u001b[0m\u001b[1;33m=\u001b[0m\u001b[1;32mTrue\u001b[0m\u001b[1;33m)\u001b[0m\u001b[1;33m\u001b[0m\u001b[0m\n\u001b[0;32m      3\u001b[0m \u001b[1;33m\u001b[0m\u001b[0m\n\u001b[1;32m----> 4\u001b[1;33m \u001b[0mtest_accuracy\u001b[0m \u001b[1;33m=\u001b[0m \u001b[0mprediction_accuracy\u001b[0m\u001b[1;33m(\u001b[0m\u001b[0mtest_X_orig\u001b[0m\u001b[1;33m,\u001b[0m \u001b[0mtest_Y_orig\u001b[0m\u001b[1;33m,\u001b[0m \u001b[0moptimized_parameters\u001b[0m\u001b[1;33m,\u001b[0m \u001b[0mlayer_dims\u001b[0m\u001b[1;33m)\u001b[0m\u001b[1;33m\u001b[0m\u001b[0m\n\u001b[0m\u001b[0;32m      5\u001b[0m \u001b[1;33m\u001b[0m\u001b[0m\n\u001b[0;32m      6\u001b[0m \u001b[0mprint\u001b[0m\u001b[1;33m(\u001b[0m\u001b[1;34m\"Train accuracy : \"\u001b[0m\u001b[1;33m,\u001b[0m \u001b[0mtrain_accuracy\u001b[0m\u001b[1;33m)\u001b[0m\u001b[1;33m\u001b[0m\u001b[0m\n",
      "\u001b[1;32m<ipython-input-12-9f9f317aca5e>\u001b[0m in \u001b[0;36mprediction_accuracy\u001b[1;34m(test_X, test_Y, parameters, layer_dims)\u001b[0m\n\u001b[0;32m      5\u001b[0m     \u001b[0mpred_cache\u001b[0m\u001b[1;33m[\u001b[0m\u001b[1;34m\"A{}\"\u001b[0m\u001b[1;33m.\u001b[0m\u001b[0mformat\u001b[0m\u001b[1;33m(\u001b[0m\u001b[0mL\u001b[0m \u001b[1;33m-\u001b[0m \u001b[1;36m1\u001b[0m\u001b[1;33m)\u001b[0m\u001b[1;33m]\u001b[0m\u001b[1;33m[\u001b[0m\u001b[0mpred_cache\u001b[0m\u001b[1;33m[\u001b[0m\u001b[1;34m\"A{}\"\u001b[0m\u001b[1;33m.\u001b[0m\u001b[0mformat\u001b[0m\u001b[1;33m(\u001b[0m\u001b[0mL\u001b[0m \u001b[1;33m-\u001b[0m \u001b[1;36m1\u001b[0m\u001b[1;33m)\u001b[0m\u001b[1;33m]\u001b[0m \u001b[1;33m<=\u001b[0m \u001b[1;36m0.5\u001b[0m\u001b[1;33m]\u001b[0m \u001b[1;33m=\u001b[0m \u001b[1;36m0\u001b[0m\u001b[1;33m\u001b[0m\u001b[0m\n\u001b[0;32m      6\u001b[0m     \u001b[0mpred_cache\u001b[0m\u001b[1;33m[\u001b[0m\u001b[1;34m\"A{}\"\u001b[0m\u001b[1;33m.\u001b[0m\u001b[0mformat\u001b[0m\u001b[1;33m(\u001b[0m\u001b[0mL\u001b[0m \u001b[1;33m-\u001b[0m \u001b[1;36m1\u001b[0m\u001b[1;33m)\u001b[0m\u001b[1;33m]\u001b[0m\u001b[1;33m[\u001b[0m\u001b[0mpred_cache\u001b[0m\u001b[1;33m[\u001b[0m\u001b[1;34m\"A{}\"\u001b[0m\u001b[1;33m.\u001b[0m\u001b[0mformat\u001b[0m\u001b[1;33m(\u001b[0m\u001b[0mL\u001b[0m \u001b[1;33m-\u001b[0m \u001b[1;36m1\u001b[0m\u001b[1;33m)\u001b[0m\u001b[1;33m]\u001b[0m \u001b[1;33m>\u001b[0m \u001b[1;36m0.5\u001b[0m\u001b[1;33m]\u001b[0m \u001b[1;33m=\u001b[0m \u001b[1;36m1\u001b[0m\u001b[1;33m\u001b[0m\u001b[0m\n\u001b[1;32m----> 7\u001b[1;33m     \u001b[0mdiff\u001b[0m \u001b[1;33m=\u001b[0m \u001b[1;33m(\u001b[0m\u001b[0mnp\u001b[0m\u001b[1;33m.\u001b[0m\u001b[0msum\u001b[0m\u001b[1;33m(\u001b[0m\u001b[0mnp\u001b[0m\u001b[1;33m.\u001b[0m\u001b[0mabs\u001b[0m\u001b[1;33m(\u001b[0m\u001b[0mtest_Y\u001b[0m \u001b[1;33m-\u001b[0m \u001b[0mpred_cache\u001b[0m\u001b[1;33m[\u001b[0m\u001b[1;34m\"A{}\"\u001b[0m\u001b[1;33m.\u001b[0m\u001b[0mformat\u001b[0m\u001b[1;33m(\u001b[0m\u001b[0mL\u001b[0m \u001b[1;33m-\u001b[0m \u001b[1;36m1\u001b[0m\u001b[1;33m)\u001b[0m\u001b[1;33m]\u001b[0m\u001b[1;33m)\u001b[0m\u001b[1;33m)\u001b[0m\u001b[1;33m/\u001b[0m\u001b[0mm\u001b[0m\u001b[1;33m)\u001b[0m \u001b[1;33m*\u001b[0m \u001b[1;36m100\u001b[0m\u001b[1;33m\u001b[0m\u001b[0m\n\u001b[0m\u001b[0;32m      8\u001b[0m     \u001b[0mtest_accuracy\u001b[0m \u001b[1;33m=\u001b[0m \u001b[1;36m100\u001b[0m \u001b[1;33m-\u001b[0m \u001b[0mdiff\u001b[0m\u001b[1;33m\u001b[0m\u001b[0m\n\u001b[0;32m      9\u001b[0m \u001b[1;33m\u001b[0m\u001b[0m\n",
      "\u001b[1;31mValueError\u001b[0m: operands could not be broadcast together with shapes (10,9999) (55,9999) "
     ]
    }
   ],
   "source": [
    "layer_dims = [784, 45, 55, 10]\n",
    "optimized_parameters, train_accuracy, costs = model(train_X_orig, train_Y_orig, layer_dims, learning_rate = 0.03, num_iterations = 3000, print_cost=True)\n"
   ]
  },
  {
   "cell_type": "code",
   "execution_count": 23,
   "metadata": {},
   "outputs": [
    {
     "name": "stdout",
     "output_type": "stream",
     "text": [
      "Train accuracy :  94.37823963732728\n",
      "Test accuracy :  92.91929192919292\n",
      "Enter any example number : 58888\n",
      "Label :  1\n"
     ]
    },
    {
     "data": {
      "image/png": "[encoded data removed]",
      "text/plain": [
       "<Figure size 432x288 with 1 Axes>"
      ]
     },
     "metadata": {},
     "output_type": "display_data"
    },
    {
     "name": "stdout",
     "output_type": "stream",
     "text": [
      "Enter any example number : 5555\n",
      "Label :  6\n"
     ]
    },
    {
     "data": {
      "image/png": "[encoded data removed]",
      "text/plain": [
       "<Figure size 432x288 with 1 Axes>"
      ]
     },
     "metadata": {},
     "output_type": "display_data"
    },
    {
     "name": "stdout",
     "output_type": "stream",
     "text": [
      "Enter any example number : 32456\n",
      "Label :  9\n"
     ]
    },
    {
     "data": {
      "image/png": "[encoded data removed]",
      "text/plain": [
       "<Figure size 432x288 with 1 Axes>"
      ]
     },
     "metadata": {},
     "output_type": "display_data"
    },
    {
     "name": "stdout",
     "output_type": "stream",
     "text": [
      "Enter any example number : 4568\n",
      "Label :  1\n"
     ]
    },
    {
     "data": {
      "image/png": "[encoded data removed]",
      "text/plain": [
       "<Figure size 432x288 with 1 Axes>"
      ]
     },
     "metadata": {},
     "output_type": "display_data"
    },
    {
     "name": "stdout",
     "output_type": "stream",
     "text": [
      "Enter any example number : 7412\n",
      "Label :  2\n"
     ]
    },
    {
     "data": {
      "image/png": "[encoded data removed]",
      "text/plain": [
       "<Figure size 432x288 with 1 Axes>"
      ]
     },
     "metadata": {},
     "output_type": "display_data"
    },
    {
     "name": "stdout",
     "output_type": "stream",
     "text": [
      "Enter any example number : -1\n"
     ]
    }
   ],
   "source": [
    "new_optimized_parameters = optimized_parameters\n",
    "test_accuracy = prediction_accuracy(test_X_orig, test_Y_orig, optimized_parameters, layer_dims)\n",
    "\n",
    "print(\"Train accuracy : \", train_accuracy)\n",
    "print(\"Test accuracy : \", test_accuracy)\n",
    "digit_recognizer(train_X_orig, layer_dims, new_optimized_parameters)"
   ]
  },
  {
   "cell_type": "code",
   "execution_count": null,
   "metadata": {},
   "outputs": [],
   "source": []
  }
 ],
 "metadata": {
  "kernelspec": {
   "display_name": "Python 3",
   "language": "python",
   "name": "python3"
  },
  "language_info": {
   "codemirror_mode": {
    "name": "ipython",
    "version": 3
   },
   "file_extension": ".py",
   "mimetype": "text/x-python",
   "name": "python",
   "nbconvert_exporter": "python",
   "pygments_lexer": "ipython3",
   "version": "3.6.5"
  }
 },
 "nbformat": 4,
 "nbformat_minor": 2
}
